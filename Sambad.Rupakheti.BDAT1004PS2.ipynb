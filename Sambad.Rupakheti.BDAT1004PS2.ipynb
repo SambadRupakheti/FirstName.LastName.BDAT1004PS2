{
 "cells": [
  {
   "cell_type": "code",
   "execution_count": 8,
   "id": "7936454b-16f4-4fd4-bc0f-c29b7f06809d",
   "metadata": {},
   "outputs": [],
   "source": [
    "a = 0\n",
    "\n",
    "def b():\n",
    "    global a\n",
    "    a = c(a)\n",
    "\n",
    "def c(a):\n",
    "    return a + 2"
   ]
  },
  {
   "cell_type": "code",
   "execution_count": 10,
   "id": "cfd9f866-2740-4348-b051-7602e9b09695",
   "metadata": {},
   "outputs": [],
   "source": [
    "# Calling b() three times\n",
    "b()\n",
    "b()\n",
    "b()"
   ]
  },
  {
   "cell_type": "code",
   "execution_count": 12,
   "id": "4a90c72b-6ace-44fd-a5a0-339782f9d443",
   "metadata": {},
   "outputs": [
    {
     "name": "stdout",
     "output_type": "stream",
     "text": [
      "The value of a after three calls to b() is: 6\n"
     ]
    }
   ],
   "source": [
    "# Display the final value of a\n",
    "print(\"The value of a after three calls to b() is:\", a)"
   ]
  },
  {
   "cell_type": "markdown",
   "id": "6523f41b-4667-47d2-821f-2856285d6828",
   "metadata": {},
   "source": [
    "### Explanation of Code Execution for Question 1\n",
    "\n",
    "**Initial Setup:**\n",
    "- `a` is a global variable initially set to `0`.\n",
    "\n",
    "1. **First Call to `b()`:**\n",
    "   - The `b()` function is called, which makes `a` a global variable within its scope.\n",
    "   - `b()` calls `c(a)`, where `a` is currently `0`.\n",
    "   - `c(0)` returns `0 + 2 = 2`.\n",
    "   - `a` is updated to `2`.\n",
    "\n",
    "2. **Second Call to `b()`:**\n",
    "   - Now, `a` is `2`.\n",
    "   - `b()` calls `c(a)`, where `a` is `2`.\n",
    "   - `c(2)` returns `2 + 2 = 4`.\n",
    "   - `a` is updated to `4`.\n",
    "\n",
    "3. **Third Call to `b()`:**\n",
    "   - Now, `a` is `4`.\n",
    "   - `b()` calls `c(a)`, where `a` is `4`.\n",
    "   - `c(4)` returns `4 + 2 = 6`.\n",
    "   - `a` is updated to `6`.\n",
    "\n",
    "**Final Answer:**\n",
    "- After three calls to `b()`, the final value of `a` is **6**.\n"
   ]
  },
  {
   "cell_type": "markdown",
   "id": "4e38182a-6dd0-4cea-86f8-4a7f84a1470a",
   "metadata": {},
   "source": [
    "# Question 2: File Length Function\r\n",
    "\r\n",
    "In this section, we define a function called `fileLength()` that takes a filename as input and returns the length of the file's contents. If the specified file does not exist, a friendly error message is displayed instead of raising an exception.\r\n",
    "\r\n",
    "## Function Definition\r\n",
    "The `fileLength()` function operates as follows:\r\n",
    "1. It attempts to open the file provided as an argument.\r\n",
    "2. If successful, it reads the contents of the file and returns the length of these contents.\r\n",
    "3. If the file does not exist, it catches the `FileNotFoundError` and returns a message indicating that the file was not found.\r\n",
    "\r\n",
    "### Example Usage\r\n",
    "The following examples demonstrate the expected behavior of the `fileLength():\r\n",
    "```python\r\n",
    ">>> fileLength('Filelength.txt')\r\n",
    "# Expected output: length of the file's contents\r\n",
    ">>> fileLength('ilelength.txt')\r\n",
    "# Expected output: File 'ilelength.txt' not found.\r\n"
   ]
  },
  {
   "cell_type": "code",
   "execution_count": 82,
   "id": "067bc4de-8c1f-430d-9f46-aa77df8e8109",
   "metadata": {},
   "outputs": [],
   "source": [
    "def fileLength(filename):\n",
    "    try:\n",
    "        # Attempt to open the file\n",
    "        with open(filename, 'r') as infile:\n",
    "            contents = infile.read()  # Read the entire contents of the file\n",
    "        return len(contents)  # Return the length of the file contents\n",
    "    except FileNotFoundError:\n",
    "        # If the file does not exist, return a friendly message\n",
    "        return f\"File '{filename}' not found.\"\n"
   ]
  },
  {
   "cell_type": "code",
   "execution_count": 84,
   "id": "60be68d0-2a0a-46b8-ad9b-4724b48f0241",
   "metadata": {},
   "outputs": [
    {
     "name": "stdout",
     "output_type": "stream",
     "text": [
      "123\n",
      "File 'ilelength.txt' not found.\n"
     ]
    }
   ],
   "source": [
    "# Testing with the existing file\n",
    "print(fileLength('Filelength.txt'))  # Expected to return the length of Filelength.txt\n",
    "\n",
    "# Testing with a non-existing file\n",
    "print(fileLength('ilelength.txt'))  # Expected to return \"File 'ilelength.txt' not found.\"\n"
   ]
  },
  {
   "cell_type": "code",
   "execution_count": 62,
   "id": "16f35caa-d369-4bd2-94c9-6fe22e5f4ab2",
   "metadata": {},
   "outputs": [
    {
     "name": "stdout",
     "output_type": "stream",
     "text": [
      "['doll', 'firetruck', 'kitten']\n",
      "I am a Kangaroo located at coordinates (0,0)\n",
      "['doll', 'firetruck', 'kitten']\n",
      "I am a Kangaroo located at coordinates (3,0)\n"
     ]
    }
   ],
   "source": [
    "# Marsupial Class\n",
    "class Marsupial:\n",
    "    def __init__(self):\n",
    "        self.pouch = []\n",
    "    \n",
    "    def put_in_pouch(self, item):\n",
    "        \"\"\"Adds an item to the pouch.\"\"\"\n",
    "        self.pouch.append(item)\n",
    "    \n",
    "    def pouch_contents(self):\n",
    "        \"\"\"Returns the contents of the pouch.\"\"\"\n",
    "        return self.pouch\n",
    "\n",
    "# Kangaroo Class inheriting from Marsupial\n",
    "class Kangaroo(Marsupial):\n",
    "    def __init__(self, x, y):\n",
    "        super().__init__()  # Call the constructor of Marsupial\n",
    "        self.x = x  # Initialize x coordinate\n",
    "        self.y = y  # Initialize y coordinate\n",
    "    \n",
    "    def jump(self, dx, dy):\n",
    "        \"\"\"Moves the Kangaroo by dx units on the x-axis and dy units on the y-axis.\"\"\"\n",
    "        self.x += dx  # Update x coordinate\n",
    "        self.y += dy  # Update y coordinate\n",
    "    \n",
    "    def __str__(self):\n",
    "        \"\"\"Returns a string representation of the Kangaroo object.\"\"\"\n",
    "        return f\"I am a Kangaroo located at coordinates ({self.x},{self.y})\"\n",
    "\n",
    "# Testing the classes\n",
    "# Creating a Marsupial\n",
    "m = Marsupial()\n",
    "m.put_in_pouch('doll')\n",
    "m.put_in_pouch('firetruck')\n",
    "m.put_in_pouch('kitten')\n",
    "print(m.pouch_contents())  # Should output: ['doll', 'firetruck', 'kitten']\n",
    "\n",
    "# Creating a Kangaroo\n",
    "k = Kangaroo(0, 0)  # Create a Kangaroo at coordinates (0,0)\n",
    "print(k)  # Print the string representation of the kangaroo\n",
    "\n",
    "# Testing the jump method\n",
    "k.put_in_pouch('doll')\n",
    "k.put_in_pouch('firetruck')\n",
    "k.put_in_pouch('kitten')\n",
    "print(k.pouch_contents())  # Should output: ['doll', 'firetruck', 'kitten']\n",
    "\n",
    "# Jumping with the Kangaroo\n",
    "k.jump(1, 0)  # Jumping to the right\n",
    "k.jump(1, 0)  # Jumping to the right again\n",
    "k.jump(1, 0)  # Jumping to the right once more\n",
    "print(k)  # Print the updated position of the kangaroo\n"
   ]
  },
  {
   "cell_type": "markdown",
   "id": "db3b1421-478b-4b3b-b5e8-570ea63e4297",
   "metadata": {},
   "source": [
    "## Question 3 Solution\n",
    "\n",
    "In this question, we create two classes: `Marsupial` and `Kangaroo`. The `Kangaroo` class inherits from the `Marsupial` class.\n",
    "\n",
    "### Marsupial Class\n",
    "- The `Marsupial` class has an `__init__` method that initializes an empty list named `pouch`.\n",
    "- The `put_in_pouch` method allows adding items to the pouch.\n",
    "- The `pouch_contents` method returns the current contents of the pouch.\n",
    "\n",
    "### Kangaroo Class\n",
    "- The `Kangaroo` class extends the `Marsupial` class by adding coordinates `x` and `y` to represent its position.\n",
    "- The `__init__` constructor takes `x` and `y` as parameters and initializes them.\n",
    "- The `jump` method updates the kangaroo's position by taking `dx` and `dy` values as input, moving the kangaroo by those units on the x and y axes, respectively.\n",
    "- The `__str__` method provides a string representation of the kangaroo that includes its coordinates.\n",
    "\n",
    "### Testing the Classes\n",
    "1. **Creating a Marsupial:**\n",
    "   ```python\n",
    "   m = Marsupial()\n",
    "   m.put_in_pouch('doll')\n",
    "   m.put_in_pouch('firetruck')\n",
    "   m.put_in_pouch('kitten')\n",
    "   print(m.pouch_contents())  # Outputs: ['doll', 'firetruck', 'kitten']\n"
   ]
  },
  {
   "cell_type": "code",
   "execution_count": 68,
   "id": "86c95040-ad28-4912-8e02-5462d2a4b002",
   "metadata": {},
   "outputs": [
    {
     "name": "stdout",
     "output_type": "stream",
     "text": [
      "1\n",
      "10\n",
      "5\n",
      "16\n",
      "8\n",
      "4\n",
      "2\n",
      "1\n"
     ]
    }
   ],
   "source": [
    "def collatz(x):\n",
    "    \"\"\"Prints the Collatz sequence starting from x.\"\"\"\n",
    "    print(x)  # Print the current number\n",
    "    if x == 1:  # Base case: stop when reaching 1\n",
    "        return\n",
    "    elif x % 2 == 0:  # If x is even\n",
    "        collatz(x // 2)  # Recursive call with x divided by 2\n",
    "    else:  # If x is odd\n",
    "        collatz(3 * x + 1)  # Recursive call with 3x + 1\n",
    "\n",
    "# Testing the function\n",
    "collatz(1)  # Should output: 1\n",
    "\n",
    "collatz(10)  # Should output the Collatz sequence for 10\n"
   ]
  },
  {
   "cell_type": "markdown",
   "id": "3424f802-9808-461d-9247-7bb172eba9b2",
   "metadata": {},
   "source": [
    "# Question 4 Function: collatz\n",
    "\n",
    "The `collatz` function generates and prints the Collatz sequence starting from a given positive integer \\( x \\). This function is implemented recursively, following the rules of the Collatz conjecture.\n",
    "\n",
    "## Function Definition\n",
    "```python\n",
    "def collatz(x):\n",
    "    \"\"\"Prints the Collatz sequence starting from x.\"\"\"\n",
    "    print(x)  # Print the current number\n",
    "    if x == 1:  # Base case: stop when reaching 1\n",
    "        return\n",
    "    elif x % 2 == 0:  # If x is even\n",
    "        collatz(x // 2)  # Recursive call with x divided by 2\n",
    "    else:  # If x is odd\n",
    "        collatz(3 * x + 1)  # Recursive call with 3x + 1\n"
   ]
  },
  {
   "cell_type": "code",
   "execution_count": 73,
   "id": "8cba872a-fa07-421f-91b7-1485b888aa00",
   "metadata": {},
   "outputs": [
    {
     "name": "stdout",
     "output_type": "stream",
     "text": [
      "0\n",
      "1\n",
      "11\n",
      "1001\n"
     ]
    }
   ],
   "source": [
    "def binary(n):\n",
    "    \"\"\"Prints the binary representation of a non-negative integer n.\"\"\"\n",
    "    if n < 0:\n",
    "        raise ValueError(\"Input must be a non-negative integer.\")\n",
    "    \n",
    "    # Base case for 0\n",
    "    if n == 0:\n",
    "        print(0)\n",
    "        return\n",
    "    \n",
    "    # Use a helper function to build the binary string\n",
    "    def helper(n):\n",
    "        if n == 0:\n",
    "            return \"\"\n",
    "        else:\n",
    "            return helper(n // 2) + str(n % 2)\n",
    "    \n",
    "    # Get the binary representation and print it\n",
    "    print(helper(n))\n",
    "\n",
    "# Testing the function\n",
    "binary(0)  # Outputs: 0\n",
    "binary(1)  # Outputs: 1\n",
    "binary(3)  # Outputs: 11\n",
    "binary(9)  # Outputs: 1001\n"
   ]
  },
  {
   "cell_type": "markdown",
   "id": "efa21081-e9a4-466c-842a-8d0e65022efe",
   "metadata": {},
   "source": [
    "### Question 5 Function: binary\n",
    "\n",
    "The `binary` function takes a non-negative integer `n` and prints its binary representation using recursion. \n",
    "\n",
    "1. **Input Validation**: The function begins by checking if `n` is a non-negative integer. If `n` is less than 0, a `ValueError` is raised, indicating that the input must be a non-negative integer.\n",
    "\n",
    "2. **Base Case**: The function checks if `n` is equal to 0. If it is, it prints `0` and returns, as the binary representation of 0 is simply 0.\n",
    "\n",
    "3. **Recursive Case**: If `n` is greater than 0, the function defines a nested helper function `recursive_binary`. This helper function is responsible for the actual recursion:\n",
    "   - It first checks if `n` is greater than 0. \n",
    "   - If true, it recursively calls itself with `n // 2` (integer division by 2) to process the quotient, which builds the binary representation from the highest bit to the lowest.\n",
    "   - After the recursive call, it calculates the remainder `n % 2` (which gives the current least significant bit) and appends it to the result string.\n",
    "\n",
    "4. **Printing the Result**: After constructing the binary representation, the function prints it. \n",
    "\n",
    "### Example Usage:\n",
    "```python\n",
    "binary(0)  # Outputs: 0\n",
    "binary(1)  # Outputs: 1\n",
    "binary(3)  # Outputs: 11\n",
    "binary(9)  # Outputs: 1001\n"
   ]
  },
  {
   "cell_type": "code",
   "execution_count": 78,
   "id": "4b38d06f-2732-403d-9bb1-58a7be204874",
   "metadata": {},
   "outputs": [
    {
     "name": "stdout",
     "output_type": "stream",
     "text": [
      "W3C Mission\n",
      "    Principles\n"
     ]
    }
   ],
   "source": [
    "from html.parser import HTMLParser\n",
    "\n",
    "class HeadingParser(HTMLParser):\n",
    "    def __init__(self):\n",
    "        super().__init__()\n",
    "        self.headings = []\n",
    "\n",
    "    def handle_starttag(self, tag, attrs):\n",
    "        if tag in ('h1', 'h2'):\n",
    "            self.current_heading_level = int(tag[1])  # Extract heading level (1 or 2)\n",
    "            self.current_heading_content = []  # Initialize content for current heading\n",
    "\n",
    "    def handle_endtag(self, tag):\n",
    "        if tag in ('h1', 'h2'):\n",
    "            heading_text = ''.join(self.current_heading_content).strip()\n",
    "            self.headings.append((self.current_heading_level, heading_text))  # Store heading level and content\n",
    "\n",
    "    def handle_data(self, data):\n",
    "        if hasattr(self, 'current_heading_level'):  # Check if we are inside a heading\n",
    "            self.current_heading_content.append(data)  # Append the text data\n",
    "\n",
    "    def print_headings(self):\n",
    "        for level, text in self.headings:\n",
    "            print('    ' * (level - 1) + text)  # Indent based on heading level\n",
    "\n",
    "# Testing the HeadingParser\n",
    "infile = open('w3c.html')  # Make sure this file exists\n",
    "content = infile.read()\n",
    "infile.close()\n",
    "\n",
    "hp = HeadingParser()\n",
    "hp.feed(content)\n",
    "hp.print_headings()  # Print the headings with indentation"
   ]
  },
  {
   "cell_type": "markdown",
   "id": "523ae120-264f-4f2f-9bd0-b89399c7a35d",
   "metadata": {},
   "source": [
    "### Question 6 Class: HeadingParser\n",
    "\n",
    "The `HeadingParser` class is designed to parse HTML documents and print all the headings found within the document. It extends the `HTMLParser` class from the Python standard library.\n",
    "\n",
    "1. **Initialization**:\n",
    "   - The constructor `__init__()` initializes an empty list `self.headings` to store the headings. It calls the parent constructor using `super().__init__()`.\n",
    "\n",
    "2. **Handling Start Tags**:\n",
    "   - The method `handle_starttag()` is overridden to check for heading tags (`h1` and `h2`).\n",
    "   - When a heading tag is encountered, it records the current heading level and initializes a list to collect the content of the heading.\n",
    "\n",
    "3. **Handling End Tags**:\n",
    "   - The method `handle_endtag()` appends the collected content to the `self.headings` list when a heading tag is closed. The content is stripped of any extra whitespace before being added.\n",
    "\n",
    "4. **Handling Data**:\n",
    "   - The method `handle_data()` appends text data found between the opening and closing heading tags to the list initialized for the current heading.\n",
    "\n",
    "5. **Printing Headings**:\n",
    "   - The `print_headings()` method iterates through `self.headings` and prints each heading with appropriate indentation based on its level (0 spaces for `h1`, 1 space for `h2`, etc.).\n",
    "\n",
    "### Example Usage:\n",
    "```python\n",
    "infile = open('w3c.html')  # Opens the HTML file\n",
    "content = infile.read()     # Reads the content of the file\n",
    "infile.close()              # Closes the file\n",
    "\n",
    "hp = HeadingParser()        # Creates an instance of HeadingParser\n",
    "hp.feed(content)            # Feeds the HTML content to the parser\n",
    "hp.print_headings()         # Prints the parsed headings"
   ]
  },
  {
   "cell_type": "code",
   "execution_count": 95,
   "id": "834dfae4-c004-410a-95ac-a8a678266c2f",
   "metadata": {},
   "outputs": [
    {
     "name": "stdout",
     "output_type": "stream",
     "text": [
      "Requirement already satisfied: requests in c:\\users\\samba\\anaconda3\\lib\\site-packages (2.31.0)\n",
      "Requirement already satisfied: beautifulsoup4 in c:\\users\\samba\\anaconda3\\lib\\site-packages (4.12.2)\n",
      "Requirement already satisfied: charset-normalizer<4,>=2 in c:\\users\\samba\\anaconda3\\lib\\site-packages (from requests) (2.0.4)\n",
      "Requirement already satisfied: idna<4,>=2.5 in c:\\users\\samba\\anaconda3\\lib\\site-packages (from requests) (3.4)\n",
      "Requirement already satisfied: urllib3<3,>=1.21.1 in c:\\users\\samba\\anaconda3\\lib\\site-packages (from requests) (2.0.7)\n",
      "Requirement already satisfied: certifi>=2017.4.17 in c:\\users\\samba\\anaconda3\\lib\\site-packages (from requests) (2024.7.4)\n",
      "Requirement already satisfied: soupsieve>1.2 in c:\\users\\samba\\anaconda3\\lib\\site-packages (from beautifulsoup4) (2.5)\n",
      "Note: you may need to restart the kernel to use updated packages.\n"
     ]
    }
   ],
   "source": [
    "pip install requests beautifulsoup4"
   ]
  },
  {
   "cell_type": "code",
   "execution_count": 105,
   "id": "47da1531-418d-46c5-8462-d62461944efd",
   "metadata": {},
   "outputs": [
    {
     "name": "stdout",
     "output_type": "stream",
     "text": [
      "http://reed.cs.depaul.edu/lperkovic/csc242/test1.html\n",
      "  Error retrieving page\n"
     ]
    }
   ],
   "source": [
    "import requests\n",
    "from bs4 import BeautifulSoup\n",
    "\n",
    "def webdir(url, depth, indent):\n",
    "    if depth < 0:\n",
    "        return  # Stop if depth is negative\n",
    "    print(' ' * indent + url)  # Print the current URL with indentation\n",
    "    try:\n",
    "        headers = {'User-Agent': 'Mozilla/5.0 (Windows NT 10.0; Win64; x64) AppleWebKit/537.36 (KHTML, like Gecko) Chrome/58.0.3029.110 Safari/537.3'}\n",
    "        response = requests.get(url, headers=headers)  # Include the User-Agent header\n",
    "        response.raise_for_status()  # Raise an error for bad responses\n",
    "        soup = BeautifulSoup(response.text, 'html.parser')  # Parse the HTML\n",
    "        \n",
    "        # Find all links in the HTML document\n",
    "        for link in soup.find_all('a'):\n",
    "            href = link.get('href')\n",
    "            if href and href.startswith('http'):\n",
    "                webdir(href, depth - 1, indent + 2)  # Recur for each link\n",
    "    except (requests.RequestException, ValueError):\n",
    "        print(' ' * (indent + 2) + \"Error retrieving page\")  # Print error message\n",
    "\n",
    "# Example usage\n",
    "webdir('http://reed.cs.depaul.edu/lperkovic/csc242/test1.html', 2, 0)"
   ]
  },
  {
   "cell_type": "code",
   "execution_count": 107,
   "id": "36c2b4d0-23a1-4773-a4cc-9006d432c3c3",
   "metadata": {},
   "outputs": [
    {
     "name": "stdout",
     "output_type": "stream",
     "text": [
      "https://www.wikipedia.org/\n",
      "  https://meta.wikimedia.org/wiki/Special:MyLanguage/List_of_Wikipedias\n",
      "    https://am.wikipedia.org/wiki/%E1%8B%A8%E1%8B%8A%E1%8A%AA%E1%8D%94%E1%8B%B2%E1%8B%AB%E1%8B%8E%E1%89%BD_%E1%8B%9D%E1%88%AD%E1%8B%9D%E1%88%AD\n",
      "    https://an.wikipedia.org/wiki/Lista_de_Biquipedias\n",
      "    https://ar.wikipedia.org/wiki/%D9%82%D8%A7%D8%A6%D9%85%D8%A9_%D8%A7%D9%84%D9%88%D9%8A%D9%83%D9%8A%D8%A8%D9%8A%D8%AF%D9%8A%D8%A7%D8%AA\n",
      "    https://arz.wikipedia.org/wiki/%D9%84%D9%8A%D8%B3%D8%AA%D8%A9_%D8%A7%D9%84%D9%88%D9%8A%D9%83%D9%8A%D8%A8%D9%8A%D8%AF%D9%8A%D8%A7%D8%AA\n",
      "    https://as.wikipedia.org/wiki/%E0%A7%B1%E0%A6%BF%E0%A6%95%E0%A6%BF%E0%A6%AA%E0%A6%BF%E0%A6%A1%E0%A6%BF%E0%A6%AF%E0%A6%BC%E0%A6%BE%E0%A7%B0_%E0%A6%A4%E0%A6%BE%E0%A6%B2%E0%A6%BF%E0%A6%95%E0%A6%BE\n",
      "    https://ast.wikipedia.org/wiki/Llista_de_Wikipedies\n",
      "    https://azb.wikipedia.org/wiki/%D9%88%DB%8C%DA%A9%DB%8C%E2%80%8C%D9%BE%D8%AF%DB%8C%D8%A7%D9%84%D8%A7%D8%B1_%D9%84%DB%8C%D8%B3%D8%AA%DB%8C\n",
      "    https://ban.wikipedia.org/wiki/Lis_wikip%C3%A9dia\n",
      "    https://bh.wikipedia.org/wiki/%E0%A4%B5%E0%A4%BF%E0%A4%95%E0%A4%BF%E0%A4%AA%E0%A5%80%E0%A4%A1%E0%A4%BF%E0%A4%AF%E0%A4%BE_%E0%A4%B8%E0%A4%AD_%E0%A4%95%E0%A5%87_%E0%A4%B8%E0%A5%82%E0%A4%9A%E0%A5%80\n",
      "    https://blk.wikipedia.org/wiki/%E1%80%9D%E1%80%AE%E1%80%81%E1%80%AE%E1%80%95%E1%80%AE%E1%80%B8%E1%80%92%E1%80%AE%E1%80%B8%E1%80%9A%E1%80%AC%E1%80%B8%E1%80%96%E1%80%AF%E1%80%B6%E1%82%8F_%E1%80%85%E1%80%AC%E1%82%8F%E1%80%9B%E1%80%84%E1%80%BA%EA%A9%BB\n"
     ]
    },
    {
     "ename": "KeyboardInterrupt",
     "evalue": "",
     "output_type": "error",
     "traceback": [
      "\u001b[1;31m---------------------------------------------------------------------------\u001b[0m",
      "\u001b[1;31mKeyboardInterrupt\u001b[0m                         Traceback (most recent call last)",
      "Cell \u001b[1;32mIn[107], line 1\u001b[0m\n\u001b[1;32m----> 1\u001b[0m webdir(\u001b[38;5;124m'\u001b[39m\u001b[38;5;124mhttps://www.wikipedia.org/\u001b[39m\u001b[38;5;124m'\u001b[39m, \u001b[38;5;241m2\u001b[39m, \u001b[38;5;241m0\u001b[39m)\n",
      "Cell \u001b[1;32mIn[105], line 18\u001b[0m, in \u001b[0;36mwebdir\u001b[1;34m(url, depth, indent)\u001b[0m\n\u001b[0;32m     16\u001b[0m         href \u001b[38;5;241m=\u001b[39m link\u001b[38;5;241m.\u001b[39mget(\u001b[38;5;124m'\u001b[39m\u001b[38;5;124mhref\u001b[39m\u001b[38;5;124m'\u001b[39m)\n\u001b[0;32m     17\u001b[0m         \u001b[38;5;28;01mif\u001b[39;00m href \u001b[38;5;129;01mand\u001b[39;00m href\u001b[38;5;241m.\u001b[39mstartswith(\u001b[38;5;124m'\u001b[39m\u001b[38;5;124mhttp\u001b[39m\u001b[38;5;124m'\u001b[39m):\n\u001b[1;32m---> 18\u001b[0m             webdir(href, depth \u001b[38;5;241m-\u001b[39m \u001b[38;5;241m1\u001b[39m, indent \u001b[38;5;241m+\u001b[39m \u001b[38;5;241m2\u001b[39m)  \u001b[38;5;66;03m# Recur for each link\u001b[39;00m\n\u001b[0;32m     19\u001b[0m \u001b[38;5;28;01mexcept\u001b[39;00m (requests\u001b[38;5;241m.\u001b[39mRequestException, \u001b[38;5;167;01mValueError\u001b[39;00m):\n\u001b[0;32m     20\u001b[0m     \u001b[38;5;28mprint\u001b[39m(\u001b[38;5;124m'\u001b[39m\u001b[38;5;124m \u001b[39m\u001b[38;5;124m'\u001b[39m \u001b[38;5;241m*\u001b[39m (indent \u001b[38;5;241m+\u001b[39m \u001b[38;5;241m2\u001b[39m) \u001b[38;5;241m+\u001b[39m \u001b[38;5;124m\"\u001b[39m\u001b[38;5;124mError retrieving page\u001b[39m\u001b[38;5;124m\"\u001b[39m)\n",
      "Cell \u001b[1;32mIn[105], line 18\u001b[0m, in \u001b[0;36mwebdir\u001b[1;34m(url, depth, indent)\u001b[0m\n\u001b[0;32m     16\u001b[0m         href \u001b[38;5;241m=\u001b[39m link\u001b[38;5;241m.\u001b[39mget(\u001b[38;5;124m'\u001b[39m\u001b[38;5;124mhref\u001b[39m\u001b[38;5;124m'\u001b[39m)\n\u001b[0;32m     17\u001b[0m         \u001b[38;5;28;01mif\u001b[39;00m href \u001b[38;5;129;01mand\u001b[39;00m href\u001b[38;5;241m.\u001b[39mstartswith(\u001b[38;5;124m'\u001b[39m\u001b[38;5;124mhttp\u001b[39m\u001b[38;5;124m'\u001b[39m):\n\u001b[1;32m---> 18\u001b[0m             webdir(href, depth \u001b[38;5;241m-\u001b[39m \u001b[38;5;241m1\u001b[39m, indent \u001b[38;5;241m+\u001b[39m \u001b[38;5;241m2\u001b[39m)  \u001b[38;5;66;03m# Recur for each link\u001b[39;00m\n\u001b[0;32m     19\u001b[0m \u001b[38;5;28;01mexcept\u001b[39;00m (requests\u001b[38;5;241m.\u001b[39mRequestException, \u001b[38;5;167;01mValueError\u001b[39;00m):\n\u001b[0;32m     20\u001b[0m     \u001b[38;5;28mprint\u001b[39m(\u001b[38;5;124m'\u001b[39m\u001b[38;5;124m \u001b[39m\u001b[38;5;124m'\u001b[39m \u001b[38;5;241m*\u001b[39m (indent \u001b[38;5;241m+\u001b[39m \u001b[38;5;241m2\u001b[39m) \u001b[38;5;241m+\u001b[39m \u001b[38;5;124m\"\u001b[39m\u001b[38;5;124mError retrieving page\u001b[39m\u001b[38;5;124m\"\u001b[39m)\n",
      "Cell \u001b[1;32mIn[105], line 10\u001b[0m, in \u001b[0;36mwebdir\u001b[1;34m(url, depth, indent)\u001b[0m\n\u001b[0;32m      8\u001b[0m \u001b[38;5;28;01mtry\u001b[39;00m:\n\u001b[0;32m      9\u001b[0m     headers \u001b[38;5;241m=\u001b[39m {\u001b[38;5;124m'\u001b[39m\u001b[38;5;124mUser-Agent\u001b[39m\u001b[38;5;124m'\u001b[39m: \u001b[38;5;124m'\u001b[39m\u001b[38;5;124mMozilla/5.0 (Windows NT 10.0; Win64; x64) AppleWebKit/537.36 (KHTML, like Gecko) Chrome/58.0.3029.110 Safari/537.3\u001b[39m\u001b[38;5;124m'\u001b[39m}\n\u001b[1;32m---> 10\u001b[0m     response \u001b[38;5;241m=\u001b[39m requests\u001b[38;5;241m.\u001b[39mget(url, headers\u001b[38;5;241m=\u001b[39mheaders)  \u001b[38;5;66;03m# Include the User-Agent header\u001b[39;00m\n\u001b[0;32m     11\u001b[0m     response\u001b[38;5;241m.\u001b[39mraise_for_status()  \u001b[38;5;66;03m# Raise an error for bad responses\u001b[39;00m\n\u001b[0;32m     12\u001b[0m     soup \u001b[38;5;241m=\u001b[39m BeautifulSoup(response\u001b[38;5;241m.\u001b[39mtext, \u001b[38;5;124m'\u001b[39m\u001b[38;5;124mhtml.parser\u001b[39m\u001b[38;5;124m'\u001b[39m)  \u001b[38;5;66;03m# Parse the HTML\u001b[39;00m\n",
      "File \u001b[1;32m~\\anaconda3\\Lib\\site-packages\\requests\\api.py:73\u001b[0m, in \u001b[0;36mget\u001b[1;34m(url, params, **kwargs)\u001b[0m\n\u001b[0;32m     62\u001b[0m \u001b[38;5;28;01mdef\u001b[39;00m \u001b[38;5;21mget\u001b[39m(url, params\u001b[38;5;241m=\u001b[39m\u001b[38;5;28;01mNone\u001b[39;00m, \u001b[38;5;241m*\u001b[39m\u001b[38;5;241m*\u001b[39mkwargs):\n\u001b[0;32m     63\u001b[0m \u001b[38;5;250m    \u001b[39m\u001b[38;5;124mr\u001b[39m\u001b[38;5;124;03m\"\"\"Sends a GET request.\u001b[39;00m\n\u001b[0;32m     64\u001b[0m \n\u001b[0;32m     65\u001b[0m \u001b[38;5;124;03m    :param url: URL for the new :class:`Request` object.\u001b[39;00m\n\u001b[1;32m   (...)\u001b[0m\n\u001b[0;32m     70\u001b[0m \u001b[38;5;124;03m    :rtype: requests.Response\u001b[39;00m\n\u001b[0;32m     71\u001b[0m \u001b[38;5;124;03m    \"\"\"\u001b[39;00m\n\u001b[1;32m---> 73\u001b[0m     \u001b[38;5;28;01mreturn\u001b[39;00m request(\u001b[38;5;124m\"\u001b[39m\u001b[38;5;124mget\u001b[39m\u001b[38;5;124m\"\u001b[39m, url, params\u001b[38;5;241m=\u001b[39mparams, \u001b[38;5;241m*\u001b[39m\u001b[38;5;241m*\u001b[39mkwargs)\n",
      "File \u001b[1;32m~\\anaconda3\\Lib\\site-packages\\requests\\api.py:59\u001b[0m, in \u001b[0;36mrequest\u001b[1;34m(method, url, **kwargs)\u001b[0m\n\u001b[0;32m     55\u001b[0m \u001b[38;5;66;03m# By using the 'with' statement we are sure the session is closed, thus we\u001b[39;00m\n\u001b[0;32m     56\u001b[0m \u001b[38;5;66;03m# avoid leaving sockets open which can trigger a ResourceWarning in some\u001b[39;00m\n\u001b[0;32m     57\u001b[0m \u001b[38;5;66;03m# cases, and look like a memory leak in others.\u001b[39;00m\n\u001b[0;32m     58\u001b[0m \u001b[38;5;28;01mwith\u001b[39;00m sessions\u001b[38;5;241m.\u001b[39mSession() \u001b[38;5;28;01mas\u001b[39;00m session:\n\u001b[1;32m---> 59\u001b[0m     \u001b[38;5;28;01mreturn\u001b[39;00m session\u001b[38;5;241m.\u001b[39mrequest(method\u001b[38;5;241m=\u001b[39mmethod, url\u001b[38;5;241m=\u001b[39murl, \u001b[38;5;241m*\u001b[39m\u001b[38;5;241m*\u001b[39mkwargs)\n",
      "File \u001b[1;32m~\\anaconda3\\Lib\\site-packages\\requests\\sessions.py:589\u001b[0m, in \u001b[0;36mSession.request\u001b[1;34m(self, method, url, params, data, headers, cookies, files, auth, timeout, allow_redirects, proxies, hooks, stream, verify, cert, json)\u001b[0m\n\u001b[0;32m    584\u001b[0m send_kwargs \u001b[38;5;241m=\u001b[39m {\n\u001b[0;32m    585\u001b[0m     \u001b[38;5;124m\"\u001b[39m\u001b[38;5;124mtimeout\u001b[39m\u001b[38;5;124m\"\u001b[39m: timeout,\n\u001b[0;32m    586\u001b[0m     \u001b[38;5;124m\"\u001b[39m\u001b[38;5;124mallow_redirects\u001b[39m\u001b[38;5;124m\"\u001b[39m: allow_redirects,\n\u001b[0;32m    587\u001b[0m }\n\u001b[0;32m    588\u001b[0m send_kwargs\u001b[38;5;241m.\u001b[39mupdate(settings)\n\u001b[1;32m--> 589\u001b[0m resp \u001b[38;5;241m=\u001b[39m \u001b[38;5;28mself\u001b[39m\u001b[38;5;241m.\u001b[39msend(prep, \u001b[38;5;241m*\u001b[39m\u001b[38;5;241m*\u001b[39msend_kwargs)\n\u001b[0;32m    591\u001b[0m \u001b[38;5;28;01mreturn\u001b[39;00m resp\n",
      "File \u001b[1;32m~\\anaconda3\\Lib\\site-packages\\requests\\sessions.py:703\u001b[0m, in \u001b[0;36mSession.send\u001b[1;34m(self, request, **kwargs)\u001b[0m\n\u001b[0;32m    700\u001b[0m start \u001b[38;5;241m=\u001b[39m preferred_clock()\n\u001b[0;32m    702\u001b[0m \u001b[38;5;66;03m# Send the request\u001b[39;00m\n\u001b[1;32m--> 703\u001b[0m r \u001b[38;5;241m=\u001b[39m adapter\u001b[38;5;241m.\u001b[39msend(request, \u001b[38;5;241m*\u001b[39m\u001b[38;5;241m*\u001b[39mkwargs)\n\u001b[0;32m    705\u001b[0m \u001b[38;5;66;03m# Total elapsed time of the request (approximately)\u001b[39;00m\n\u001b[0;32m    706\u001b[0m elapsed \u001b[38;5;241m=\u001b[39m preferred_clock() \u001b[38;5;241m-\u001b[39m start\n",
      "File \u001b[1;32m~\\anaconda3\\Lib\\site-packages\\requests\\adapters.py:486\u001b[0m, in \u001b[0;36mHTTPAdapter.send\u001b[1;34m(self, request, stream, timeout, verify, cert, proxies)\u001b[0m\n\u001b[0;32m    483\u001b[0m     timeout \u001b[38;5;241m=\u001b[39m TimeoutSauce(connect\u001b[38;5;241m=\u001b[39mtimeout, read\u001b[38;5;241m=\u001b[39mtimeout)\n\u001b[0;32m    485\u001b[0m \u001b[38;5;28;01mtry\u001b[39;00m:\n\u001b[1;32m--> 486\u001b[0m     resp \u001b[38;5;241m=\u001b[39m conn\u001b[38;5;241m.\u001b[39murlopen(\n\u001b[0;32m    487\u001b[0m         method\u001b[38;5;241m=\u001b[39mrequest\u001b[38;5;241m.\u001b[39mmethod,\n\u001b[0;32m    488\u001b[0m         url\u001b[38;5;241m=\u001b[39murl,\n\u001b[0;32m    489\u001b[0m         body\u001b[38;5;241m=\u001b[39mrequest\u001b[38;5;241m.\u001b[39mbody,\n\u001b[0;32m    490\u001b[0m         headers\u001b[38;5;241m=\u001b[39mrequest\u001b[38;5;241m.\u001b[39mheaders,\n\u001b[0;32m    491\u001b[0m         redirect\u001b[38;5;241m=\u001b[39m\u001b[38;5;28;01mFalse\u001b[39;00m,\n\u001b[0;32m    492\u001b[0m         assert_same_host\u001b[38;5;241m=\u001b[39m\u001b[38;5;28;01mFalse\u001b[39;00m,\n\u001b[0;32m    493\u001b[0m         preload_content\u001b[38;5;241m=\u001b[39m\u001b[38;5;28;01mFalse\u001b[39;00m,\n\u001b[0;32m    494\u001b[0m         decode_content\u001b[38;5;241m=\u001b[39m\u001b[38;5;28;01mFalse\u001b[39;00m,\n\u001b[0;32m    495\u001b[0m         retries\u001b[38;5;241m=\u001b[39m\u001b[38;5;28mself\u001b[39m\u001b[38;5;241m.\u001b[39mmax_retries,\n\u001b[0;32m    496\u001b[0m         timeout\u001b[38;5;241m=\u001b[39mtimeout,\n\u001b[0;32m    497\u001b[0m         chunked\u001b[38;5;241m=\u001b[39mchunked,\n\u001b[0;32m    498\u001b[0m     )\n\u001b[0;32m    500\u001b[0m \u001b[38;5;28;01mexcept\u001b[39;00m (ProtocolError, \u001b[38;5;167;01mOSError\u001b[39;00m) \u001b[38;5;28;01mas\u001b[39;00m err:\n\u001b[0;32m    501\u001b[0m     \u001b[38;5;28;01mraise\u001b[39;00m \u001b[38;5;167;01mConnectionError\u001b[39;00m(err, request\u001b[38;5;241m=\u001b[39mrequest)\n",
      "File \u001b[1;32m~\\anaconda3\\Lib\\site-packages\\urllib3\\connectionpool.py:791\u001b[0m, in \u001b[0;36mHTTPConnectionPool.urlopen\u001b[1;34m(self, method, url, body, headers, retries, redirect, assert_same_host, timeout, pool_timeout, release_conn, chunked, body_pos, preload_content, decode_content, **response_kw)\u001b[0m\n\u001b[0;32m    788\u001b[0m response_conn \u001b[38;5;241m=\u001b[39m conn \u001b[38;5;28;01mif\u001b[39;00m \u001b[38;5;129;01mnot\u001b[39;00m release_conn \u001b[38;5;28;01melse\u001b[39;00m \u001b[38;5;28;01mNone\u001b[39;00m\n\u001b[0;32m    790\u001b[0m \u001b[38;5;66;03m# Make the request on the HTTPConnection object\u001b[39;00m\n\u001b[1;32m--> 791\u001b[0m response \u001b[38;5;241m=\u001b[39m \u001b[38;5;28mself\u001b[39m\u001b[38;5;241m.\u001b[39m_make_request(\n\u001b[0;32m    792\u001b[0m     conn,\n\u001b[0;32m    793\u001b[0m     method,\n\u001b[0;32m    794\u001b[0m     url,\n\u001b[0;32m    795\u001b[0m     timeout\u001b[38;5;241m=\u001b[39mtimeout_obj,\n\u001b[0;32m    796\u001b[0m     body\u001b[38;5;241m=\u001b[39mbody,\n\u001b[0;32m    797\u001b[0m     headers\u001b[38;5;241m=\u001b[39mheaders,\n\u001b[0;32m    798\u001b[0m     chunked\u001b[38;5;241m=\u001b[39mchunked,\n\u001b[0;32m    799\u001b[0m     retries\u001b[38;5;241m=\u001b[39mretries,\n\u001b[0;32m    800\u001b[0m     response_conn\u001b[38;5;241m=\u001b[39mresponse_conn,\n\u001b[0;32m    801\u001b[0m     preload_content\u001b[38;5;241m=\u001b[39mpreload_content,\n\u001b[0;32m    802\u001b[0m     decode_content\u001b[38;5;241m=\u001b[39mdecode_content,\n\u001b[0;32m    803\u001b[0m     \u001b[38;5;241m*\u001b[39m\u001b[38;5;241m*\u001b[39mresponse_kw,\n\u001b[0;32m    804\u001b[0m )\n\u001b[0;32m    806\u001b[0m \u001b[38;5;66;03m# Everything went great!\u001b[39;00m\n\u001b[0;32m    807\u001b[0m clean_exit \u001b[38;5;241m=\u001b[39m \u001b[38;5;28;01mTrue\u001b[39;00m\n",
      "File \u001b[1;32m~\\anaconda3\\Lib\\site-packages\\urllib3\\connectionpool.py:468\u001b[0m, in \u001b[0;36mHTTPConnectionPool._make_request\u001b[1;34m(self, conn, method, url, body, headers, retries, timeout, chunked, response_conn, preload_content, decode_content, enforce_content_length)\u001b[0m\n\u001b[0;32m    465\u001b[0m \u001b[38;5;28;01mtry\u001b[39;00m:\n\u001b[0;32m    466\u001b[0m     \u001b[38;5;66;03m# Trigger any extra validation we need to do.\u001b[39;00m\n\u001b[0;32m    467\u001b[0m     \u001b[38;5;28;01mtry\u001b[39;00m:\n\u001b[1;32m--> 468\u001b[0m         \u001b[38;5;28mself\u001b[39m\u001b[38;5;241m.\u001b[39m_validate_conn(conn)\n\u001b[0;32m    469\u001b[0m     \u001b[38;5;28;01mexcept\u001b[39;00m (SocketTimeout, BaseSSLError) \u001b[38;5;28;01mas\u001b[39;00m e:\n\u001b[0;32m    470\u001b[0m         \u001b[38;5;28mself\u001b[39m\u001b[38;5;241m.\u001b[39m_raise_timeout(err\u001b[38;5;241m=\u001b[39me, url\u001b[38;5;241m=\u001b[39murl, timeout_value\u001b[38;5;241m=\u001b[39mconn\u001b[38;5;241m.\u001b[39mtimeout)\n",
      "File \u001b[1;32m~\\anaconda3\\Lib\\site-packages\\urllib3\\connectionpool.py:1097\u001b[0m, in \u001b[0;36mHTTPSConnectionPool._validate_conn\u001b[1;34m(self, conn)\u001b[0m\n\u001b[0;32m   1095\u001b[0m \u001b[38;5;66;03m# Force connect early to allow us to validate the connection.\u001b[39;00m\n\u001b[0;32m   1096\u001b[0m \u001b[38;5;28;01mif\u001b[39;00m conn\u001b[38;5;241m.\u001b[39mis_closed:\n\u001b[1;32m-> 1097\u001b[0m     conn\u001b[38;5;241m.\u001b[39mconnect()\n\u001b[0;32m   1099\u001b[0m \u001b[38;5;28;01mif\u001b[39;00m \u001b[38;5;129;01mnot\u001b[39;00m conn\u001b[38;5;241m.\u001b[39mis_verified:\n\u001b[0;32m   1100\u001b[0m     warnings\u001b[38;5;241m.\u001b[39mwarn(\n\u001b[0;32m   1101\u001b[0m         (\n\u001b[0;32m   1102\u001b[0m             \u001b[38;5;124mf\u001b[39m\u001b[38;5;124m\"\u001b[39m\u001b[38;5;124mUnverified HTTPS request is being made to host \u001b[39m\u001b[38;5;124m'\u001b[39m\u001b[38;5;132;01m{\u001b[39;00mconn\u001b[38;5;241m.\u001b[39mhost\u001b[38;5;132;01m}\u001b[39;00m\u001b[38;5;124m'\u001b[39m\u001b[38;5;124m. \u001b[39m\u001b[38;5;124m\"\u001b[39m\n\u001b[1;32m   (...)\u001b[0m\n\u001b[0;32m   1107\u001b[0m         InsecureRequestWarning,\n\u001b[0;32m   1108\u001b[0m     )\n",
      "File \u001b[1;32m~\\anaconda3\\Lib\\site-packages\\urllib3\\connection.py:642\u001b[0m, in \u001b[0;36mHTTPSConnection.connect\u001b[1;34m(self)\u001b[0m\n\u001b[0;32m    633\u001b[0m \u001b[38;5;28;01mif\u001b[39;00m is_time_off:\n\u001b[0;32m    634\u001b[0m     warnings\u001b[38;5;241m.\u001b[39mwarn(\n\u001b[0;32m    635\u001b[0m         (\n\u001b[0;32m    636\u001b[0m             \u001b[38;5;124mf\u001b[39m\u001b[38;5;124m\"\u001b[39m\u001b[38;5;124mSystem time is way off (before \u001b[39m\u001b[38;5;132;01m{\u001b[39;00mRECENT_DATE\u001b[38;5;132;01m}\u001b[39;00m\u001b[38;5;124m). This will probably \u001b[39m\u001b[38;5;124m\"\u001b[39m\n\u001b[1;32m   (...)\u001b[0m\n\u001b[0;32m    639\u001b[0m         SystemTimeWarning,\n\u001b[0;32m    640\u001b[0m     )\n\u001b[1;32m--> 642\u001b[0m sock_and_verified \u001b[38;5;241m=\u001b[39m _ssl_wrap_socket_and_match_hostname(\n\u001b[0;32m    643\u001b[0m     sock\u001b[38;5;241m=\u001b[39msock,\n\u001b[0;32m    644\u001b[0m     cert_reqs\u001b[38;5;241m=\u001b[39m\u001b[38;5;28mself\u001b[39m\u001b[38;5;241m.\u001b[39mcert_reqs,\n\u001b[0;32m    645\u001b[0m     ssl_version\u001b[38;5;241m=\u001b[39m\u001b[38;5;28mself\u001b[39m\u001b[38;5;241m.\u001b[39mssl_version,\n\u001b[0;32m    646\u001b[0m     ssl_minimum_version\u001b[38;5;241m=\u001b[39m\u001b[38;5;28mself\u001b[39m\u001b[38;5;241m.\u001b[39mssl_minimum_version,\n\u001b[0;32m    647\u001b[0m     ssl_maximum_version\u001b[38;5;241m=\u001b[39m\u001b[38;5;28mself\u001b[39m\u001b[38;5;241m.\u001b[39mssl_maximum_version,\n\u001b[0;32m    648\u001b[0m     ca_certs\u001b[38;5;241m=\u001b[39m\u001b[38;5;28mself\u001b[39m\u001b[38;5;241m.\u001b[39mca_certs,\n\u001b[0;32m    649\u001b[0m     ca_cert_dir\u001b[38;5;241m=\u001b[39m\u001b[38;5;28mself\u001b[39m\u001b[38;5;241m.\u001b[39mca_cert_dir,\n\u001b[0;32m    650\u001b[0m     ca_cert_data\u001b[38;5;241m=\u001b[39m\u001b[38;5;28mself\u001b[39m\u001b[38;5;241m.\u001b[39mca_cert_data,\n\u001b[0;32m    651\u001b[0m     cert_file\u001b[38;5;241m=\u001b[39m\u001b[38;5;28mself\u001b[39m\u001b[38;5;241m.\u001b[39mcert_file,\n\u001b[0;32m    652\u001b[0m     key_file\u001b[38;5;241m=\u001b[39m\u001b[38;5;28mself\u001b[39m\u001b[38;5;241m.\u001b[39mkey_file,\n\u001b[0;32m    653\u001b[0m     key_password\u001b[38;5;241m=\u001b[39m\u001b[38;5;28mself\u001b[39m\u001b[38;5;241m.\u001b[39mkey_password,\n\u001b[0;32m    654\u001b[0m     server_hostname\u001b[38;5;241m=\u001b[39mserver_hostname,\n\u001b[0;32m    655\u001b[0m     ssl_context\u001b[38;5;241m=\u001b[39m\u001b[38;5;28mself\u001b[39m\u001b[38;5;241m.\u001b[39mssl_context,\n\u001b[0;32m    656\u001b[0m     tls_in_tls\u001b[38;5;241m=\u001b[39mtls_in_tls,\n\u001b[0;32m    657\u001b[0m     assert_hostname\u001b[38;5;241m=\u001b[39m\u001b[38;5;28mself\u001b[39m\u001b[38;5;241m.\u001b[39massert_hostname,\n\u001b[0;32m    658\u001b[0m     assert_fingerprint\u001b[38;5;241m=\u001b[39m\u001b[38;5;28mself\u001b[39m\u001b[38;5;241m.\u001b[39massert_fingerprint,\n\u001b[0;32m    659\u001b[0m )\n\u001b[0;32m    660\u001b[0m \u001b[38;5;28mself\u001b[39m\u001b[38;5;241m.\u001b[39msock \u001b[38;5;241m=\u001b[39m sock_and_verified\u001b[38;5;241m.\u001b[39msocket\n\u001b[0;32m    661\u001b[0m \u001b[38;5;28mself\u001b[39m\u001b[38;5;241m.\u001b[39mis_verified \u001b[38;5;241m=\u001b[39m sock_and_verified\u001b[38;5;241m.\u001b[39mis_verified\n",
      "File \u001b[1;32m~\\anaconda3\\Lib\\site-packages\\urllib3\\connection.py:783\u001b[0m, in \u001b[0;36m_ssl_wrap_socket_and_match_hostname\u001b[1;34m(sock, cert_reqs, ssl_version, ssl_minimum_version, ssl_maximum_version, cert_file, key_file, key_password, ca_certs, ca_cert_dir, ca_cert_data, assert_hostname, assert_fingerprint, server_hostname, ssl_context, tls_in_tls)\u001b[0m\n\u001b[0;32m    780\u001b[0m     \u001b[38;5;28;01mif\u001b[39;00m is_ipaddress(normalized):\n\u001b[0;32m    781\u001b[0m         server_hostname \u001b[38;5;241m=\u001b[39m normalized\n\u001b[1;32m--> 783\u001b[0m ssl_sock \u001b[38;5;241m=\u001b[39m ssl_wrap_socket(\n\u001b[0;32m    784\u001b[0m     sock\u001b[38;5;241m=\u001b[39msock,\n\u001b[0;32m    785\u001b[0m     keyfile\u001b[38;5;241m=\u001b[39mkey_file,\n\u001b[0;32m    786\u001b[0m     certfile\u001b[38;5;241m=\u001b[39mcert_file,\n\u001b[0;32m    787\u001b[0m     key_password\u001b[38;5;241m=\u001b[39mkey_password,\n\u001b[0;32m    788\u001b[0m     ca_certs\u001b[38;5;241m=\u001b[39mca_certs,\n\u001b[0;32m    789\u001b[0m     ca_cert_dir\u001b[38;5;241m=\u001b[39mca_cert_dir,\n\u001b[0;32m    790\u001b[0m     ca_cert_data\u001b[38;5;241m=\u001b[39mca_cert_data,\n\u001b[0;32m    791\u001b[0m     server_hostname\u001b[38;5;241m=\u001b[39mserver_hostname,\n\u001b[0;32m    792\u001b[0m     ssl_context\u001b[38;5;241m=\u001b[39mcontext,\n\u001b[0;32m    793\u001b[0m     tls_in_tls\u001b[38;5;241m=\u001b[39mtls_in_tls,\n\u001b[0;32m    794\u001b[0m )\n\u001b[0;32m    796\u001b[0m \u001b[38;5;28;01mtry\u001b[39;00m:\n\u001b[0;32m    797\u001b[0m     \u001b[38;5;28;01mif\u001b[39;00m assert_fingerprint:\n",
      "File \u001b[1;32m~\\anaconda3\\Lib\\site-packages\\urllib3\\util\\ssl_.py:446\u001b[0m, in \u001b[0;36mssl_wrap_socket\u001b[1;34m(sock, keyfile, certfile, cert_reqs, ca_certs, server_hostname, ssl_version, ciphers, ssl_context, ca_cert_dir, key_password, ca_cert_data, tls_in_tls)\u001b[0m\n\u001b[0;32m    444\u001b[0m \u001b[38;5;28;01mif\u001b[39;00m ca_certs \u001b[38;5;129;01mor\u001b[39;00m ca_cert_dir \u001b[38;5;129;01mor\u001b[39;00m ca_cert_data:\n\u001b[0;32m    445\u001b[0m     \u001b[38;5;28;01mtry\u001b[39;00m:\n\u001b[1;32m--> 446\u001b[0m         context\u001b[38;5;241m.\u001b[39mload_verify_locations(ca_certs, ca_cert_dir, ca_cert_data)\n\u001b[0;32m    447\u001b[0m     \u001b[38;5;28;01mexcept\u001b[39;00m \u001b[38;5;167;01mOSError\u001b[39;00m \u001b[38;5;28;01mas\u001b[39;00m e:\n\u001b[0;32m    448\u001b[0m         \u001b[38;5;28;01mraise\u001b[39;00m SSLError(e) \u001b[38;5;28;01mfrom\u001b[39;00m \u001b[38;5;21;01me\u001b[39;00m\n",
      "\u001b[1;31mKeyboardInterrupt\u001b[0m: "
     ]
    }
   ],
   "source": [
    "webdir('https://www.wikipedia.org/', 2, 0)"
   ]
  },
  {
   "cell_type": "markdown",
   "id": "71bd62ae-f92d-4e7f-8a63-97558e812e0a",
   "metadata": {},
   "source": [
    "### Question 7 Function: webdir()\n",
    "\n",
    "The `webdir()` function is a recursive function designed to traverse web pages starting from a given URL up to a specified depth. It prints each page's URL while indicating the depth of traversal with indentation.\n",
    "\n",
    "#### Parameters:\n",
    "- **url** (str): The starting URL from which to begin the traversal.\n",
    "- **depth** (int): The maximum depth of traversal; a depth of 0 means only the starting URL will be printed.\n",
    "- **indent** (int): The indentation level for printing URLs, which increases with depth.\n",
    "\n",
    "#### Functionality:\n",
    "1. **Base Case**:\n",
    "   - The function checks if the depth is negative. If so, it returns immediately, halting further execution.\n",
    "\n",
    "2. **Print Current URL**:\n",
    "   - The function prints the current URL with indentation corresponding to its depth.\n",
    "\n",
    "3. **Making HTTP Requests**:\n",
    "   - It attempts to retrieve the content of the specified URL using the `requests` library, including a User-Agent header to mimic a browser request. This helps prevent potential blocks from web servers that might reject requests without a user agent.\n",
    "   - If the response indicates an error (like a 404 or 500), it raises an exception.\n",
    "\n",
    "4. **HTML Parsing**:\n",
    "   - The function uses `BeautifulSoup` from the `bs4` module to parse the HTML content of the response.\n",
    "   - It then searches for all anchor (`<a>`) tags in the document to find hyperlinks.\n",
    "\n",
    "5. **Recursive Traversal**:\n",
    "   - For each link found, if it starts with 'http', the function calls itself recursively, decreasing the depth by 1 and increasing the indentation by 2 spaces.\n",
    "\n",
    "6. **Error Handling**:\n",
    "   - If an error occurs while making the request or processing the URL, the function catches the exception and prints an error message, indented appropriately.\n",
    "\n",
    "#### Example Usage:\n",
    "```python\n",
    "webdir('http://reed.cs.depaul.edu/lperkovic/csc242/test1.html', 2, 0)\n",
    "webdir('https://www.wikipedia.org/', 2, 0)\n"
   ]
  },
  {
   "cell_type": "code",
   "execution_count": 111,
   "id": "46fcef7d-d304-4b3f-a19a-266abefbcd93",
   "metadata": {},
   "outputs": [
    {
     "name": "stdout",
     "output_type": "stream",
     "text": [
      "[(24.8,), (28.4,), (27.9,), (27.6,), (4.2,), (8.3,), (15.7,), (10.4,), (13.6,), (20.7,), (27.7,), (22.2,)]\n",
      "[('Mumbai',), ('London',), ('Cairo',)]\n",
      "[('Mumbai', 'India', 'Winter', 24.8, 5.9), ('Mumbai', 'India', 'Spring', 28.4, 16.2), ('Mumbai', 'India', 'Summer', 27.9, 1549.4), ('Mumbai', 'India', 'Fall', 27.6, 346.0)]\n",
      "[('Mumbai', 'India', 'Fall', 27.6, 346.0), ('London', 'United Kingdom', 'Fall', 10.4, 218.5), ('Cairo', 'Egypt', 'Fall', 22.2, 4.5)]\n",
      "[('Mumbai', 'India', 'Fall'), ('London', 'United Kingdom', 'Winter'), ('London', 'United Kingdom', 'Fall')]\n",
      "[('Cairo', 'Egypt'), ('Mumbai', 'India')]\n",
      "(27.6,)\n",
      "[('Fall', 569.0), ('Spring', 192.29999999999998), ('Summer', 1706.5), ('Winter', 230.1)]\n"
     ]
    }
   ],
   "source": [
    "import sqlite3\n",
    "\n",
    "# Connect to SQLite database\n",
    "conn = sqlite3.connect('weather.db')\n",
    "cursor = conn.cursor()\n",
    "\n",
    "# Create table\n",
    "cursor.execute('''\n",
    "CREATE TABLE weather (\n",
    "    city TEXT,\n",
    "    country TEXT,\n",
    "    season TEXT,\n",
    "    temperature REAL,\n",
    "    rainfall REAL\n",
    ")\n",
    "''')\n",
    "\n",
    "# Insert data\n",
    "data = [\n",
    "    ('Mumbai', 'India', 'Winter', 24.8, 5.9),\n",
    "    ('Mumbai', 'India', 'Spring', 28.4, 16.2),\n",
    "    ('Mumbai', 'India', 'Summer', 27.9, 1549.4),\n",
    "    ('Mumbai', 'India', 'Fall', 27.6, 346.0),\n",
    "    ('London', 'United Kingdom', 'Winter', 4.2, 207.7),\n",
    "    ('London', 'United Kingdom', 'Spring', 8.3, 169.6),\n",
    "    ('London', 'United Kingdom', 'Summer', 15.7, 157.0),\n",
    "    ('London', 'United Kingdom', 'Fall', 10.4, 218.5),\n",
    "    ('Cairo', 'Egypt', 'Winter', 13.6, 16.5),\n",
    "    ('Cairo', 'Egypt', 'Spring', 20.7, 6.5),\n",
    "    ('Cairo', 'Egypt', 'Summer', 27.7, 0.1),\n",
    "    ('Cairo', 'Egypt', 'Fall', 22.2, 4.5)\n",
    "]\n",
    "\n",
    "cursor.executemany('INSERT INTO weather VALUES (?,?,?,?,?)', data)\n",
    "conn.commit()\n",
    "\n",
    "# Answers\n",
    "# a) All the temperature data\n",
    "cursor.execute('SELECT temperature FROM weather')\n",
    "print(cursor.fetchall())\n",
    "\n",
    "# b) All the cities, but without repetition\n",
    "cursor.execute('SELECT DISTINCT city FROM weather')\n",
    "print(cursor.fetchall())\n",
    "\n",
    "# c) All the records for India\n",
    "cursor.execute('SELECT * FROM weather WHERE country = \"India\"')\n",
    "print(cursor.fetchall())\n",
    "\n",
    "# d) All the Fall records\n",
    "cursor.execute('SELECT * FROM weather WHERE season = \"Fall\"')\n",
    "print(cursor.fetchall())\n",
    "\n",
    "# e) The city, country, and season for which the average rainfall is between 200 and 400 millimeters\n",
    "cursor.execute('SELECT city, country, season FROM weather WHERE rainfall BETWEEN 200 AND 400')\n",
    "print(cursor.fetchall())\n",
    "\n",
    "# f) The city and country for which the average Fall temperature is above 20 degrees, in increasing temperature order\n",
    "cursor.execute('SELECT city, country FROM weather WHERE season = \"Fall\" AND temperature > 20 ORDER BY temperature')\n",
    "print(cursor.fetchall())\n",
    "\n",
    "# g) The total annual rainfall for Cairo\n",
    "cursor.execute('SELECT SUM(rainfall) FROM weather WHERE city = \"Cairo\"')\n",
    "print(cursor.fetchone())\n",
    "\n",
    "# h) The total rainfall for each season\n",
    "cursor.execute('SELECT season, SUM(rainfall) FROM weather GROUP BY season')\n",
    "print(cursor.fetchall())\n",
    "\n",
    "# Close connection\n",
    "conn.close()\n"
   ]
  },
  {
   "cell_type": "markdown",
   "id": "2a8ac41e-cbb4-4853-9990-f5123dfca894",
   "metadata": {},
   "source": [
    "### Question 8: Weather Database\n",
    "\n",
    "The above code implements a weather database using SQLite, allowing for the storage and retrieval of temperature and rainfall data for various cities.\n",
    "\n",
    "#### Code Overview:\n",
    "1. **Importing SQLite Library**:\n",
    "   - The `sqlite3` library is imported to enable interaction with the SQLite database.\n",
    "\n",
    "2. **Connecting to the Database**:\n",
    "   - A connection to a SQLite database named `weather.db` is established. If the file does not exist, it will be created.\n",
    "\n",
    "3. **Creating a Table**:\n",
    "   - A table named `weather` is created to store data about cities, countries, seasons, temperatures, and rainfall using the following schema:\n",
    "     - `city` (TEXT): The name of the city.\n",
    "     - `country` (TEXT): The name of the country.\n",
    "     - `season` (TEXT): The season (e.g., Winter, Spring).\n",
    "     - `temperature` (REAL): The average temperature in degrees Celsius.\n",
    "     - `rainfall` (REAL): The total rainfall in millimeters.\n",
    "\n",
    "4. **Inserting Data**:\n",
    "   - A predefined list of tuples containing weather data for three cities (Mumbai, London, and Cairo) is inserted into the `weather` table using `executemany()` method. Each tuple includes city name, country name, season, temperature, and rainfall values.\n",
    "\n",
    "5. **Executing Queries**:\n",
    "   - Several SQL queries are executed to retrieve specific information from the database\n"
   ]
  },
  {
   "cell_type": "code",
   "execution_count": 116,
   "id": "2b3e9c73-1acc-400d-92e6-099fa43ec21b",
   "metadata": {},
   "outputs": [
    {
     "name": "stdout",
     "output_type": "stream",
     "text": [
      "['THE', 'QUICK', 'BROWN', 'FOX', 'JUMPS', 'OVER', 'THE', 'LAZY', 'DOG']\n",
      "['the', 'quick', 'brown', 'fox', 'jumps', 'over', 'the', 'lazy', 'dog']\n",
      "[3, 5, 5, 3, 5, 4, 3, 4, 3]\n",
      "[['THE', 'the', 3], ['QUICK', 'quick', 5], ['BROWN', 'brown', 5], ['FOX', 'fox', 3], ['JUMPS', 'jumps', 5], ['OVER', 'over', 4], ['THE', 'the', 3], ['LAZY', 'lazy', 4], ['DOG', 'dog', 3]]\n",
      "['quick', 'brown', 'jumps', 'over', 'lazy']\n"
     ]
    }
   ],
   "source": [
    "# Question 9\n",
    "# Define the list of words\n",
    "words = ['The', 'quick', 'brown', 'fox', 'jumps', 'over', 'the', 'lazy', 'dog']\n",
    "\n",
    "# a) Convert all words to uppercase\n",
    "uppercase_words = [word.upper() for word in words]\n",
    "print(uppercase_words)  \n",
    "# This generates a new list by applying the upper() method to each word in the words list.\n",
    "\n",
    "# b) Keep all words in lowercase\n",
    "lowercase_words = [word.lower() for word in words]\n",
    "print(lowercase_words)  \n",
    "# This creates a new list with each word converted to lowercase using the lower() method.\n",
    "\n",
    "# c) Create a list of lengths of each word\n",
    "word_lengths = [len(word) for word in words]\n",
    "print(word_lengths)  \n",
    "# This produces a list of integers representing the length of each word using the len() function.\n",
    "\n",
    "# d) Create a list containing each word in uppercase, lowercase, and its length\n",
    "word_details = [[word.upper(), word.lower(), len(word)] for word in words]\n",
    "print(word_details)  \n",
    "# This creates a list of lists where each sub-list contains the uppercase version, lowercase version, and length of each word.\n",
    "\n",
    "# e) Filter words that contain 4 or more characters\n",
    "long_words = [word for word in words if len(word) >= 4]\n",
    "print(long_words)  \n",
    "# This generates a new list containing only those words that have 4 or more characters, filtered using a conditional statement.\n"
   ]
  },
  {
   "cell_type": "code",
   "execution_count": null,
   "id": "b0acd3da-74c7-4ecc-858b-f604eaf68572",
   "metadata": {},
   "outputs": [],
   "source": []
  }
 ],
 "metadata": {
  "kernelspec": {
   "display_name": "Python 3 (ipykernel)",
   "language": "python",
   "name": "python3"
  },
  "language_info": {
   "codemirror_mode": {
    "name": "ipython",
    "version": 3
   },
   "file_extension": ".py",
   "mimetype": "text/x-python",
   "name": "python",
   "nbconvert_exporter": "python",
   "pygments_lexer": "ipython3",
   "version": "3.11.5"
  }
 },
 "nbformat": 4,
 "nbformat_minor": 5
}
